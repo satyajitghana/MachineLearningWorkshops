{
 "cells": [
  {
   "cell_type": "code",
   "execution_count": 254,
   "metadata": {},
   "outputs": [],
   "source": [
    "import pandas as pd\n",
    "import numpy as np\n",
    "import matplotlib.pyplot as plt"
   ]
  },
  {
   "cell_type": "code",
   "execution_count": 255,
   "metadata": {},
   "outputs": [],
   "source": [
    "data = pd.read_csv('ChurnData.csv')"
   ]
  },
  {
   "cell_type": "code",
   "execution_count": 256,
   "metadata": {},
   "outputs": [
    {
     "data": {
      "text/html": [
       "<div>\n",
       "<style scoped>\n",
       "    .dataframe tbody tr th:only-of-type {\n",
       "        vertical-align: middle;\n",
       "    }\n",
       "\n",
       "    .dataframe tbody tr th {\n",
       "        vertical-align: top;\n",
       "    }\n",
       "\n",
       "    .dataframe thead th {\n",
       "        text-align: right;\n",
       "    }\n",
       "</style>\n",
       "<table border=\"1\" class=\"dataframe\">\n",
       "  <thead>\n",
       "    <tr style=\"text-align: right;\">\n",
       "      <th></th>\n",
       "      <th>tenure</th>\n",
       "      <th>age</th>\n",
       "      <th>address</th>\n",
       "      <th>income</th>\n",
       "      <th>ed</th>\n",
       "      <th>employ</th>\n",
       "      <th>equip</th>\n",
       "      <th>callcard</th>\n",
       "      <th>wireless</th>\n",
       "      <th>longmon</th>\n",
       "      <th>...</th>\n",
       "      <th>pager</th>\n",
       "      <th>internet</th>\n",
       "      <th>callwait</th>\n",
       "      <th>confer</th>\n",
       "      <th>ebill</th>\n",
       "      <th>loglong</th>\n",
       "      <th>logtoll</th>\n",
       "      <th>lninc</th>\n",
       "      <th>custcat</th>\n",
       "      <th>churn</th>\n",
       "    </tr>\n",
       "  </thead>\n",
       "  <tbody>\n",
       "    <tr>\n",
       "      <th>0</th>\n",
       "      <td>11</td>\n",
       "      <td>33</td>\n",
       "      <td>7</td>\n",
       "      <td>136</td>\n",
       "      <td>5</td>\n",
       "      <td>5</td>\n",
       "      <td>0</td>\n",
       "      <td>1</td>\n",
       "      <td>1</td>\n",
       "      <td>4.40</td>\n",
       "      <td>...</td>\n",
       "      <td>1</td>\n",
       "      <td>0</td>\n",
       "      <td>1</td>\n",
       "      <td>1</td>\n",
       "      <td>0</td>\n",
       "      <td>1.482</td>\n",
       "      <td>3.033</td>\n",
       "      <td>4.913</td>\n",
       "      <td>4</td>\n",
       "      <td>1</td>\n",
       "    </tr>\n",
       "    <tr>\n",
       "      <th>1</th>\n",
       "      <td>33</td>\n",
       "      <td>33</td>\n",
       "      <td>12</td>\n",
       "      <td>33</td>\n",
       "      <td>2</td>\n",
       "      <td>0</td>\n",
       "      <td>0</td>\n",
       "      <td>0</td>\n",
       "      <td>0</td>\n",
       "      <td>9.45</td>\n",
       "      <td>...</td>\n",
       "      <td>0</td>\n",
       "      <td>0</td>\n",
       "      <td>0</td>\n",
       "      <td>0</td>\n",
       "      <td>0</td>\n",
       "      <td>2.246</td>\n",
       "      <td>3.240</td>\n",
       "      <td>3.497</td>\n",
       "      <td>1</td>\n",
       "      <td>1</td>\n",
       "    </tr>\n",
       "    <tr>\n",
       "      <th>2</th>\n",
       "      <td>23</td>\n",
       "      <td>30</td>\n",
       "      <td>9</td>\n",
       "      <td>30</td>\n",
       "      <td>1</td>\n",
       "      <td>2</td>\n",
       "      <td>0</td>\n",
       "      <td>0</td>\n",
       "      <td>0</td>\n",
       "      <td>6.30</td>\n",
       "      <td>...</td>\n",
       "      <td>0</td>\n",
       "      <td>0</td>\n",
       "      <td>0</td>\n",
       "      <td>1</td>\n",
       "      <td>0</td>\n",
       "      <td>1.841</td>\n",
       "      <td>3.240</td>\n",
       "      <td>3.401</td>\n",
       "      <td>3</td>\n",
       "      <td>0</td>\n",
       "    </tr>\n",
       "    <tr>\n",
       "      <th>3</th>\n",
       "      <td>38</td>\n",
       "      <td>35</td>\n",
       "      <td>5</td>\n",
       "      <td>76</td>\n",
       "      <td>2</td>\n",
       "      <td>10</td>\n",
       "      <td>1</td>\n",
       "      <td>1</td>\n",
       "      <td>1</td>\n",
       "      <td>6.05</td>\n",
       "      <td>...</td>\n",
       "      <td>1</td>\n",
       "      <td>1</td>\n",
       "      <td>1</td>\n",
       "      <td>1</td>\n",
       "      <td>1</td>\n",
       "      <td>1.800</td>\n",
       "      <td>3.807</td>\n",
       "      <td>4.331</td>\n",
       "      <td>4</td>\n",
       "      <td>0</td>\n",
       "    </tr>\n",
       "    <tr>\n",
       "      <th>4</th>\n",
       "      <td>7</td>\n",
       "      <td>35</td>\n",
       "      <td>14</td>\n",
       "      <td>80</td>\n",
       "      <td>2</td>\n",
       "      <td>15</td>\n",
       "      <td>0</td>\n",
       "      <td>1</td>\n",
       "      <td>0</td>\n",
       "      <td>7.10</td>\n",
       "      <td>...</td>\n",
       "      <td>0</td>\n",
       "      <td>0</td>\n",
       "      <td>1</td>\n",
       "      <td>1</td>\n",
       "      <td>0</td>\n",
       "      <td>1.960</td>\n",
       "      <td>3.091</td>\n",
       "      <td>4.382</td>\n",
       "      <td>3</td>\n",
       "      <td>0</td>\n",
       "    </tr>\n",
       "  </tbody>\n",
       "</table>\n",
       "<p>5 rows × 28 columns</p>\n",
       "</div>"
      ],
      "text/plain": [
       "   tenure  age  address  income  ed  employ  equip  callcard  wireless  \\\n",
       "0      11   33        7     136   5       5      0         1         1   \n",
       "1      33   33       12      33   2       0      0         0         0   \n",
       "2      23   30        9      30   1       2      0         0         0   \n",
       "3      38   35        5      76   2      10      1         1         1   \n",
       "4       7   35       14      80   2      15      0         1         0   \n",
       "\n",
       "   longmon  ...  pager  internet  callwait  confer  ebill  loglong  logtoll  \\\n",
       "0     4.40  ...      1         0         1       1      0    1.482    3.033   \n",
       "1     9.45  ...      0         0         0       0      0    2.246    3.240   \n",
       "2     6.30  ...      0         0         0       1      0    1.841    3.240   \n",
       "3     6.05  ...      1         1         1       1      1    1.800    3.807   \n",
       "4     7.10  ...      0         0         1       1      0    1.960    3.091   \n",
       "\n",
       "   lninc  custcat  churn  \n",
       "0  4.913        4      1  \n",
       "1  3.497        1      1  \n",
       "2  3.401        3      0  \n",
       "3  4.331        4      0  \n",
       "4  4.382        3      0  \n",
       "\n",
       "[5 rows x 28 columns]"
      ]
     },
     "execution_count": 256,
     "metadata": {},
     "output_type": "execute_result"
    }
   ],
   "source": [
    "data.head()"
   ]
  },
  {
   "cell_type": "code",
   "execution_count": 257,
   "metadata": {},
   "outputs": [
    {
     "data": {
      "text/html": [
       "<div>\n",
       "<style scoped>\n",
       "    .dataframe tbody tr th:only-of-type {\n",
       "        vertical-align: middle;\n",
       "    }\n",
       "\n",
       "    .dataframe tbody tr th {\n",
       "        vertical-align: top;\n",
       "    }\n",
       "\n",
       "    .dataframe thead th {\n",
       "        text-align: right;\n",
       "    }\n",
       "</style>\n",
       "<table border=\"1\" class=\"dataframe\">\n",
       "  <thead>\n",
       "    <tr style=\"text-align: right;\">\n",
       "      <th></th>\n",
       "      <th>tenure</th>\n",
       "      <th>age</th>\n",
       "      <th>address</th>\n",
       "      <th>income</th>\n",
       "      <th>ed</th>\n",
       "      <th>employ</th>\n",
       "      <th>equip</th>\n",
       "      <th>callcard</th>\n",
       "      <th>wireless</th>\n",
       "      <th>longmon</th>\n",
       "      <th>...</th>\n",
       "      <th>pager</th>\n",
       "      <th>internet</th>\n",
       "      <th>callwait</th>\n",
       "      <th>confer</th>\n",
       "      <th>ebill</th>\n",
       "      <th>loglong</th>\n",
       "      <th>logtoll</th>\n",
       "      <th>lninc</th>\n",
       "      <th>custcat</th>\n",
       "      <th>churn</th>\n",
       "    </tr>\n",
       "  </thead>\n",
       "  <tbody>\n",
       "    <tr>\n",
       "      <th>0</th>\n",
       "      <td>11</td>\n",
       "      <td>33</td>\n",
       "      <td>7</td>\n",
       "      <td>136</td>\n",
       "      <td>5</td>\n",
       "      <td>5</td>\n",
       "      <td>0</td>\n",
       "      <td>1</td>\n",
       "      <td>1</td>\n",
       "      <td>4.40</td>\n",
       "      <td>...</td>\n",
       "      <td>1</td>\n",
       "      <td>0</td>\n",
       "      <td>1</td>\n",
       "      <td>1</td>\n",
       "      <td>0</td>\n",
       "      <td>1.482</td>\n",
       "      <td>3.033</td>\n",
       "      <td>4.913</td>\n",
       "      <td>4</td>\n",
       "      <td>1</td>\n",
       "    </tr>\n",
       "    <tr>\n",
       "      <th>1</th>\n",
       "      <td>33</td>\n",
       "      <td>33</td>\n",
       "      <td>12</td>\n",
       "      <td>33</td>\n",
       "      <td>2</td>\n",
       "      <td>0</td>\n",
       "      <td>0</td>\n",
       "      <td>0</td>\n",
       "      <td>0</td>\n",
       "      <td>9.45</td>\n",
       "      <td>...</td>\n",
       "      <td>0</td>\n",
       "      <td>0</td>\n",
       "      <td>0</td>\n",
       "      <td>0</td>\n",
       "      <td>0</td>\n",
       "      <td>2.246</td>\n",
       "      <td>3.240</td>\n",
       "      <td>3.497</td>\n",
       "      <td>1</td>\n",
       "      <td>1</td>\n",
       "    </tr>\n",
       "    <tr>\n",
       "      <th>2</th>\n",
       "      <td>23</td>\n",
       "      <td>30</td>\n",
       "      <td>9</td>\n",
       "      <td>30</td>\n",
       "      <td>1</td>\n",
       "      <td>2</td>\n",
       "      <td>0</td>\n",
       "      <td>0</td>\n",
       "      <td>0</td>\n",
       "      <td>6.30</td>\n",
       "      <td>...</td>\n",
       "      <td>0</td>\n",
       "      <td>0</td>\n",
       "      <td>0</td>\n",
       "      <td>1</td>\n",
       "      <td>0</td>\n",
       "      <td>1.841</td>\n",
       "      <td>3.240</td>\n",
       "      <td>3.401</td>\n",
       "      <td>3</td>\n",
       "      <td>0</td>\n",
       "    </tr>\n",
       "  </tbody>\n",
       "</table>\n",
       "<p>3 rows × 28 columns</p>\n",
       "</div>"
      ],
      "text/plain": [
       "   tenure  age  address  income  ed  employ  equip  callcard  wireless  \\\n",
       "0      11   33        7     136   5       5      0         1         1   \n",
       "1      33   33       12      33   2       0      0         0         0   \n",
       "2      23   30        9      30   1       2      0         0         0   \n",
       "\n",
       "   longmon  ...  pager  internet  callwait  confer  ebill  loglong  logtoll  \\\n",
       "0     4.40  ...      1         0         1       1      0    1.482    3.033   \n",
       "1     9.45  ...      0         0         0       0      0    2.246    3.240   \n",
       "2     6.30  ...      0         0         0       1      0    1.841    3.240   \n",
       "\n",
       "   lninc  custcat  churn  \n",
       "0  4.913        4      1  \n",
       "1  3.497        1      1  \n",
       "2  3.401        3      0  \n",
       "\n",
       "[3 rows x 28 columns]"
      ]
     },
     "execution_count": 257,
     "metadata": {},
     "output_type": "execute_result"
    }
   ],
   "source": [
    "data.iloc[:3, :]"
   ]
  },
  {
   "cell_type": "code",
   "execution_count": 258,
   "metadata": {},
   "outputs": [
    {
     "data": {
      "text/html": [
       "<div>\n",
       "<style scoped>\n",
       "    .dataframe tbody tr th:only-of-type {\n",
       "        vertical-align: middle;\n",
       "    }\n",
       "\n",
       "    .dataframe tbody tr th {\n",
       "        vertical-align: top;\n",
       "    }\n",
       "\n",
       "    .dataframe thead th {\n",
       "        text-align: right;\n",
       "    }\n",
       "</style>\n",
       "<table border=\"1\" class=\"dataframe\">\n",
       "  <thead>\n",
       "    <tr style=\"text-align: right;\">\n",
       "      <th></th>\n",
       "      <th>tenure</th>\n",
       "      <th>age</th>\n",
       "      <th>address</th>\n",
       "      <th>income</th>\n",
       "      <th>ed</th>\n",
       "      <th>employ</th>\n",
       "      <th>equip</th>\n",
       "      <th>callcard</th>\n",
       "      <th>wireless</th>\n",
       "      <th>longmon</th>\n",
       "      <th>...</th>\n",
       "      <th>pager</th>\n",
       "      <th>internet</th>\n",
       "      <th>callwait</th>\n",
       "      <th>confer</th>\n",
       "      <th>ebill</th>\n",
       "      <th>loglong</th>\n",
       "      <th>logtoll</th>\n",
       "      <th>lninc</th>\n",
       "      <th>custcat</th>\n",
       "      <th>churn</th>\n",
       "    </tr>\n",
       "  </thead>\n",
       "  <tbody>\n",
       "    <tr>\n",
       "      <th>count</th>\n",
       "      <td>200.000000</td>\n",
       "      <td>200.000000</td>\n",
       "      <td>200.000000</td>\n",
       "      <td>200.000000</td>\n",
       "      <td>200.00000</td>\n",
       "      <td>200.00000</td>\n",
       "      <td>200.000000</td>\n",
       "      <td>200.000000</td>\n",
       "      <td>200.000000</td>\n",
       "      <td>200.00000</td>\n",
       "      <td>...</td>\n",
       "      <td>200.000000</td>\n",
       "      <td>200.000000</td>\n",
       "      <td>200.00000</td>\n",
       "      <td>200.000000</td>\n",
       "      <td>200.000000</td>\n",
       "      <td>200.000000</td>\n",
       "      <td>200.000000</td>\n",
       "      <td>200.000000</td>\n",
       "      <td>200.000000</td>\n",
       "      <td>200.000000</td>\n",
       "    </tr>\n",
       "    <tr>\n",
       "      <th>mean</th>\n",
       "      <td>35.505000</td>\n",
       "      <td>41.165000</td>\n",
       "      <td>11.650000</td>\n",
       "      <td>75.130000</td>\n",
       "      <td>2.82500</td>\n",
       "      <td>10.22500</td>\n",
       "      <td>0.425000</td>\n",
       "      <td>0.705000</td>\n",
       "      <td>0.290000</td>\n",
       "      <td>11.78925</td>\n",
       "      <td>...</td>\n",
       "      <td>0.275000</td>\n",
       "      <td>0.440000</td>\n",
       "      <td>0.45500</td>\n",
       "      <td>0.460000</td>\n",
       "      <td>0.440000</td>\n",
       "      <td>2.193285</td>\n",
       "      <td>3.229185</td>\n",
       "      <td>3.951015</td>\n",
       "      <td>2.475000</td>\n",
       "      <td>0.290000</td>\n",
       "    </tr>\n",
       "    <tr>\n",
       "      <th>std</th>\n",
       "      <td>21.640971</td>\n",
       "      <td>13.076803</td>\n",
       "      <td>10.158419</td>\n",
       "      <td>128.430468</td>\n",
       "      <td>1.28555</td>\n",
       "      <td>8.95743</td>\n",
       "      <td>0.495584</td>\n",
       "      <td>0.457187</td>\n",
       "      <td>0.454901</td>\n",
       "      <td>9.88725</td>\n",
       "      <td>...</td>\n",
       "      <td>0.447635</td>\n",
       "      <td>0.497633</td>\n",
       "      <td>0.49922</td>\n",
       "      <td>0.499648</td>\n",
       "      <td>0.497633</td>\n",
       "      <td>0.731282</td>\n",
       "      <td>0.281019</td>\n",
       "      <td>0.752553</td>\n",
       "      <td>1.079445</td>\n",
       "      <td>0.454901</td>\n",
       "    </tr>\n",
       "    <tr>\n",
       "      <th>min</th>\n",
       "      <td>1.000000</td>\n",
       "      <td>19.000000</td>\n",
       "      <td>0.000000</td>\n",
       "      <td>9.000000</td>\n",
       "      <td>1.00000</td>\n",
       "      <td>0.00000</td>\n",
       "      <td>0.000000</td>\n",
       "      <td>0.000000</td>\n",
       "      <td>0.000000</td>\n",
       "      <td>1.10000</td>\n",
       "      <td>...</td>\n",
       "      <td>0.000000</td>\n",
       "      <td>0.000000</td>\n",
       "      <td>0.00000</td>\n",
       "      <td>0.000000</td>\n",
       "      <td>0.000000</td>\n",
       "      <td>0.095000</td>\n",
       "      <td>1.749000</td>\n",
       "      <td>2.197000</td>\n",
       "      <td>1.000000</td>\n",
       "      <td>0.000000</td>\n",
       "    </tr>\n",
       "    <tr>\n",
       "      <th>25%</th>\n",
       "      <td>16.750000</td>\n",
       "      <td>31.000000</td>\n",
       "      <td>3.000000</td>\n",
       "      <td>31.000000</td>\n",
       "      <td>2.00000</td>\n",
       "      <td>3.00000</td>\n",
       "      <td>0.000000</td>\n",
       "      <td>0.000000</td>\n",
       "      <td>0.000000</td>\n",
       "      <td>5.53750</td>\n",
       "      <td>...</td>\n",
       "      <td>0.000000</td>\n",
       "      <td>0.000000</td>\n",
       "      <td>0.00000</td>\n",
       "      <td>0.000000</td>\n",
       "      <td>0.000000</td>\n",
       "      <td>1.711750</td>\n",
       "      <td>3.226500</td>\n",
       "      <td>3.434000</td>\n",
       "      <td>2.000000</td>\n",
       "      <td>0.000000</td>\n",
       "    </tr>\n",
       "    <tr>\n",
       "      <th>50%</th>\n",
       "      <td>33.500000</td>\n",
       "      <td>40.000000</td>\n",
       "      <td>9.000000</td>\n",
       "      <td>48.000000</td>\n",
       "      <td>3.00000</td>\n",
       "      <td>7.50000</td>\n",
       "      <td>0.000000</td>\n",
       "      <td>1.000000</td>\n",
       "      <td>0.000000</td>\n",
       "      <td>8.25000</td>\n",
       "      <td>...</td>\n",
       "      <td>0.000000</td>\n",
       "      <td>0.000000</td>\n",
       "      <td>0.00000</td>\n",
       "      <td>0.000000</td>\n",
       "      <td>0.000000</td>\n",
       "      <td>2.110000</td>\n",
       "      <td>3.240000</td>\n",
       "      <td>3.871000</td>\n",
       "      <td>2.000000</td>\n",
       "      <td>0.000000</td>\n",
       "    </tr>\n",
       "    <tr>\n",
       "      <th>75%</th>\n",
       "      <td>55.250000</td>\n",
       "      <td>51.000000</td>\n",
       "      <td>18.000000</td>\n",
       "      <td>80.000000</td>\n",
       "      <td>4.00000</td>\n",
       "      <td>17.00000</td>\n",
       "      <td>1.000000</td>\n",
       "      <td>1.000000</td>\n",
       "      <td>1.000000</td>\n",
       "      <td>14.30000</td>\n",
       "      <td>...</td>\n",
       "      <td>1.000000</td>\n",
       "      <td>1.000000</td>\n",
       "      <td>1.00000</td>\n",
       "      <td>1.000000</td>\n",
       "      <td>1.000000</td>\n",
       "      <td>2.660000</td>\n",
       "      <td>3.240000</td>\n",
       "      <td>4.382000</td>\n",
       "      <td>3.000000</td>\n",
       "      <td>1.000000</td>\n",
       "    </tr>\n",
       "    <tr>\n",
       "      <th>max</th>\n",
       "      <td>72.000000</td>\n",
       "      <td>76.000000</td>\n",
       "      <td>48.000000</td>\n",
       "      <td>1668.000000</td>\n",
       "      <td>5.00000</td>\n",
       "      <td>44.00000</td>\n",
       "      <td>1.000000</td>\n",
       "      <td>1.000000</td>\n",
       "      <td>1.000000</td>\n",
       "      <td>62.30000</td>\n",
       "      <td>...</td>\n",
       "      <td>1.000000</td>\n",
       "      <td>1.000000</td>\n",
       "      <td>1.00000</td>\n",
       "      <td>1.000000</td>\n",
       "      <td>1.000000</td>\n",
       "      <td>4.132000</td>\n",
       "      <td>4.227000</td>\n",
       "      <td>7.419000</td>\n",
       "      <td>4.000000</td>\n",
       "      <td>1.000000</td>\n",
       "    </tr>\n",
       "  </tbody>\n",
       "</table>\n",
       "<p>8 rows × 28 columns</p>\n",
       "</div>"
      ],
      "text/plain": [
       "           tenure         age     address       income         ed     employ  \\\n",
       "count  200.000000  200.000000  200.000000   200.000000  200.00000  200.00000   \n",
       "mean    35.505000   41.165000   11.650000    75.130000    2.82500   10.22500   \n",
       "std     21.640971   13.076803   10.158419   128.430468    1.28555    8.95743   \n",
       "min      1.000000   19.000000    0.000000     9.000000    1.00000    0.00000   \n",
       "25%     16.750000   31.000000    3.000000    31.000000    2.00000    3.00000   \n",
       "50%     33.500000   40.000000    9.000000    48.000000    3.00000    7.50000   \n",
       "75%     55.250000   51.000000   18.000000    80.000000    4.00000   17.00000   \n",
       "max     72.000000   76.000000   48.000000  1668.000000    5.00000   44.00000   \n",
       "\n",
       "            equip    callcard    wireless    longmon  ...       pager  \\\n",
       "count  200.000000  200.000000  200.000000  200.00000  ...  200.000000   \n",
       "mean     0.425000    0.705000    0.290000   11.78925  ...    0.275000   \n",
       "std      0.495584    0.457187    0.454901    9.88725  ...    0.447635   \n",
       "min      0.000000    0.000000    0.000000    1.10000  ...    0.000000   \n",
       "25%      0.000000    0.000000    0.000000    5.53750  ...    0.000000   \n",
       "50%      0.000000    1.000000    0.000000    8.25000  ...    0.000000   \n",
       "75%      1.000000    1.000000    1.000000   14.30000  ...    1.000000   \n",
       "max      1.000000    1.000000    1.000000   62.30000  ...    1.000000   \n",
       "\n",
       "         internet   callwait      confer       ebill     loglong     logtoll  \\\n",
       "count  200.000000  200.00000  200.000000  200.000000  200.000000  200.000000   \n",
       "mean     0.440000    0.45500    0.460000    0.440000    2.193285    3.229185   \n",
       "std      0.497633    0.49922    0.499648    0.497633    0.731282    0.281019   \n",
       "min      0.000000    0.00000    0.000000    0.000000    0.095000    1.749000   \n",
       "25%      0.000000    0.00000    0.000000    0.000000    1.711750    3.226500   \n",
       "50%      0.000000    0.00000    0.000000    0.000000    2.110000    3.240000   \n",
       "75%      1.000000    1.00000    1.000000    1.000000    2.660000    3.240000   \n",
       "max      1.000000    1.00000    1.000000    1.000000    4.132000    4.227000   \n",
       "\n",
       "            lninc     custcat       churn  \n",
       "count  200.000000  200.000000  200.000000  \n",
       "mean     3.951015    2.475000    0.290000  \n",
       "std      0.752553    1.079445    0.454901  \n",
       "min      2.197000    1.000000    0.000000  \n",
       "25%      3.434000    2.000000    0.000000  \n",
       "50%      3.871000    2.000000    0.000000  \n",
       "75%      4.382000    3.000000    1.000000  \n",
       "max      7.419000    4.000000    1.000000  \n",
       "\n",
       "[8 rows x 28 columns]"
      ]
     },
     "execution_count": 258,
     "metadata": {},
     "output_type": "execute_result"
    }
   ],
   "source": [
    "data.describe()"
   ]
  },
  {
   "cell_type": "code",
   "execution_count": 259,
   "metadata": {},
   "outputs": [
    {
     "name": "stdout",
     "output_type": "stream",
     "text": [
      "<class 'pandas.core.frame.DataFrame'>\n",
      "RangeIndex: 200 entries, 0 to 199\n",
      "Data columns (total 28 columns):\n",
      "tenure      200 non-null int64\n",
      "age         200 non-null int64\n",
      "address     200 non-null int64\n",
      "income      200 non-null int64\n",
      "ed          200 non-null int64\n",
      "employ      200 non-null int64\n",
      "equip       200 non-null int64\n",
      "callcard    200 non-null int64\n",
      "wireless    200 non-null int64\n",
      "longmon     200 non-null float64\n",
      "tollmon     200 non-null float64\n",
      "equipmon    200 non-null float64\n",
      "cardmon     200 non-null float64\n",
      "wiremon     200 non-null float64\n",
      "longten     200 non-null float64\n",
      "tollten     200 non-null float64\n",
      "cardten     200 non-null float64\n",
      "voice       200 non-null int64\n",
      "pager       200 non-null int64\n",
      "internet    200 non-null int64\n",
      "callwait    200 non-null int64\n",
      "confer      200 non-null int64\n",
      "ebill       200 non-null int64\n",
      "loglong     200 non-null float64\n",
      "logtoll     200 non-null float64\n",
      "lninc       200 non-null float64\n",
      "custcat     200 non-null int64\n",
      "churn       200 non-null int64\n",
      "dtypes: float64(11), int64(17)\n",
      "memory usage: 43.8 KB\n"
     ]
    }
   ],
   "source": [
    "data.info()"
   ]
  },
  {
   "cell_type": "code",
   "execution_count": 260,
   "metadata": {},
   "outputs": [
    {
     "data": {
      "text/plain": [
       "Index(['tenure', 'age', 'address', 'income', 'ed', 'employ', 'equip',\n",
       "       'callcard', 'wireless', 'longmon', 'tollmon', 'equipmon', 'cardmon',\n",
       "       'wiremon', 'longten', 'tollten', 'cardten', 'voice', 'pager',\n",
       "       'internet', 'callwait', 'confer', 'ebill', 'loglong', 'logtoll',\n",
       "       'lninc', 'custcat', 'churn'],\n",
       "      dtype='object')"
      ]
     },
     "execution_count": 260,
     "metadata": {},
     "output_type": "execute_result"
    }
   ],
   "source": [
    "data.keys()"
   ]
  },
  {
   "cell_type": "code",
   "execution_count": 261,
   "metadata": {},
   "outputs": [],
   "source": [
    "X_DATA = data[[\"tenure\", \"age\", \"address\", \"income\", \"ed\", \"employ\", \"equip\", \"callcard\", \"callwait\"]]"
   ]
  },
  {
   "cell_type": "code",
   "execution_count": 262,
   "metadata": {},
   "outputs": [],
   "source": [
    "Y_DATA = data[\"churn\"]"
   ]
  },
  {
   "cell_type": "code",
   "execution_count": 263,
   "metadata": {},
   "outputs": [
    {
     "data": {
      "text/plain": [
       "0    1\n",
       "1    1\n",
       "2    0\n",
       "3    0\n",
       "4    0\n",
       "Name: churn, dtype: int64"
      ]
     },
     "execution_count": 263,
     "metadata": {},
     "output_type": "execute_result"
    }
   ],
   "source": [
    "Y_DATA.head()"
   ]
  },
  {
   "cell_type": "code",
   "execution_count": 264,
   "metadata": {},
   "outputs": [],
   "source": [
    "XA = np.asanyarray(X_DATA)\n",
    "YA = np.asanyarray(Y_DATA)"
   ]
  },
  {
   "cell_type": "code",
   "execution_count": 265,
   "metadata": {},
   "outputs": [
    {
     "data": {
      "text/plain": [
       "(numpy.ndarray, numpy.ndarray)"
      ]
     },
     "execution_count": 265,
     "metadata": {},
     "output_type": "execute_result"
    }
   ],
   "source": [
    "type(XA), type(YA)"
   ]
  },
  {
   "cell_type": "code",
   "execution_count": 266,
   "metadata": {},
   "outputs": [
    {
     "data": {
      "text/plain": [
       "array([[ 11,  33,   7, 136,   5,   5,   0,   1,   1],\n",
       "       [ 33,  33,  12,  33,   2,   0,   0,   0,   0],\n",
       "       [ 23,  30,   9,  30,   1,   2,   0,   0,   0]])"
      ]
     },
     "execution_count": 266,
     "metadata": {},
     "output_type": "execute_result"
    }
   ],
   "source": [
    "XA[:3]"
   ]
  },
  {
   "cell_type": "code",
   "execution_count": 267,
   "metadata": {},
   "outputs": [],
   "source": [
    "from sklearn.preprocessing import StandardScaler"
   ]
  },
  {
   "cell_type": "code",
   "execution_count": 268,
   "metadata": {},
   "outputs": [
    {
     "name": "stderr",
     "output_type": "stream",
     "text": [
      "/opt/anaconda/lib/python3.7/site-packages/sklearn/utils/validation.py:595: DataConversionWarning: Data with input dtype int64 was converted to float64 by StandardScaler.\n",
      "  warnings.warn(msg, DataConversionWarning)\n",
      "/opt/anaconda/lib/python3.7/site-packages/sklearn/utils/validation.py:595: DataConversionWarning: Data with input dtype int64 was converted to float64 by StandardScaler.\n",
      "  warnings.warn(msg, DataConversionWarning)\n"
     ]
    }
   ],
   "source": [
    "XA = StandardScaler().fit(XA).transform(XA)"
   ]
  },
  {
   "cell_type": "code",
   "execution_count": 269,
   "metadata": {},
   "outputs": [
    {
     "data": {
      "text/plain": [
       "array([[-1.13518441, -0.62595491, -0.4588971 , ..., -0.85972695,\n",
       "         0.64686916,  1.0944415 ],\n",
       "       [-0.11604313, -0.62595491,  0.03454064, ..., -0.85972695,\n",
       "        -1.54590766, -0.91370804],\n",
       "       [-0.57928917, -0.85594447, -0.261522  , ..., -0.85972695,\n",
       "        -1.54590766, -0.91370804],\n",
       "       ...,\n",
       "       [-1.36680743, -0.7026181 , -0.16283445, ..., -0.85972695,\n",
       "         0.64686916,  1.0944415 ],\n",
       "       [-0.53296457, -0.85594447, -1.14970993, ..., -0.85972695,\n",
       "         0.64686916,  1.0944415 ],\n",
       "       [ 1.18104577,  0.67731925,  0.42929083, ...,  1.16316   ,\n",
       "         0.64686916, -0.91370804]])"
      ]
     },
     "execution_count": 269,
     "metadata": {},
     "output_type": "execute_result"
    }
   ],
   "source": [
    "XA"
   ]
  },
  {
   "cell_type": "code",
   "execution_count": 270,
   "metadata": {},
   "outputs": [
    {
     "data": {
      "text/plain": [
       "'mean : 0.0, standard deviation : 1.0'"
      ]
     },
     "execution_count": 270,
     "metadata": {},
     "output_type": "execute_result"
    }
   ],
   "source": [
    "'mean : {}, standard deviation : {}'.format(np.abs(np.round(XA.mean())), XA.std())"
   ]
  },
  {
   "cell_type": "code",
   "execution_count": 271,
   "metadata": {},
   "outputs": [],
   "source": [
    "from sklearn.model_selection import train_test_split"
   ]
  },
  {
   "cell_type": "code",
   "execution_count": 272,
   "metadata": {},
   "outputs": [],
   "source": [
    "X_TRAIN, X_TEST, Y_TRAIN, Y_TEST = train_test_split(XA, YA, test_size=0.5)"
   ]
  },
  {
   "cell_type": "code",
   "execution_count": 273,
   "metadata": {},
   "outputs": [
    {
     "data": {
      "text/plain": [
       "((100, 9), (100, 9), (100,), (100,))"
      ]
     },
     "execution_count": 273,
     "metadata": {},
     "output_type": "execute_result"
    }
   ],
   "source": [
    "X_TRAIN.shape, X_TEST.shape, Y_TRAIN.shape, Y_TEST.shape"
   ]
  },
  {
   "cell_type": "code",
   "execution_count": 274,
   "metadata": {},
   "outputs": [],
   "source": [
    "from sklearn.linear_model import LogisticRegression"
   ]
  },
  {
   "cell_type": "code",
   "execution_count": 275,
   "metadata": {},
   "outputs": [],
   "source": [
    "model = LogisticRegression(solver='liblinear')"
   ]
  },
  {
   "cell_type": "code",
   "execution_count": 276,
   "metadata": {},
   "outputs": [
    {
     "data": {
      "text/plain": [
       "LogisticRegression(C=1.0, class_weight=None, dual=False, fit_intercept=True,\n",
       "          intercept_scaling=1, max_iter=100, multi_class='warn',\n",
       "          n_jobs=None, penalty='l2', random_state=None, solver='liblinear',\n",
       "          tol=0.0001, verbose=0, warm_start=False)"
      ]
     },
     "execution_count": 276,
     "metadata": {},
     "output_type": "execute_result"
    }
   ],
   "source": [
    "model.fit(X_TRAIN, Y_TRAIN)"
   ]
  },
  {
   "cell_type": "code",
   "execution_count": 277,
   "metadata": {},
   "outputs": [],
   "source": [
    "YP = model.predict(X_TEST)"
   ]
  },
  {
   "cell_type": "code",
   "execution_count": 278,
   "metadata": {},
   "outputs": [],
   "source": [
    "YA = Y_TEST"
   ]
  },
  {
   "cell_type": "markdown",
   "metadata": {},
   "source": [
    "Predicts the Probability of the samples, [a, b]  \n",
    "a -> how probable to being 0  \n",
    "b -> how probable to being 1"
   ]
  },
  {
   "cell_type": "code",
   "execution_count": 279,
   "metadata": {},
   "outputs": [
    {
     "data": {
      "text/plain": [
       "array([[0.61139032, 0.38860968],\n",
       "       [0.77040798, 0.22959202],\n",
       "       [0.91335415, 0.08664585],\n",
       "       [0.89292838, 0.10707162],\n",
       "       [0.56821101, 0.43178899]])"
      ]
     },
     "execution_count": 279,
     "metadata": {},
     "output_type": "execute_result"
    }
   ],
   "source": [
    "YPROBA = model.predict_proba(X_TEST)\n",
    "YPROBA[:5]"
   ]
  },
  {
   "cell_type": "markdown",
   "metadata": {},
   "source": [
    "probability of Y being 1 given X"
   ]
  },
  {
   "cell_type": "code",
   "execution_count": 280,
   "metadata": {},
   "outputs": [],
   "source": [
    "P_Y1X = YPROBA[:, 0]\n",
    "P_Y0X = YPROBA[:, 1]"
   ]
  },
  {
   "cell_type": "code",
   "execution_count": 281,
   "metadata": {},
   "outputs": [],
   "source": [
    "table = pd.DataFrame({\"P(Y=1) | X\": P_Y1X, \"P(Y=0) | X\": P_Y0X})"
   ]
  },
  {
   "cell_type": "code",
   "execution_count": 282,
   "metadata": {},
   "outputs": [
    {
     "data": {
      "text/html": [
       "<div>\n",
       "<style scoped>\n",
       "    .dataframe tbody tr th:only-of-type {\n",
       "        vertical-align: middle;\n",
       "    }\n",
       "\n",
       "    .dataframe tbody tr th {\n",
       "        vertical-align: top;\n",
       "    }\n",
       "\n",
       "    .dataframe thead th {\n",
       "        text-align: right;\n",
       "    }\n",
       "</style>\n",
       "<table border=\"1\" class=\"dataframe\">\n",
       "  <thead>\n",
       "    <tr style=\"text-align: right;\">\n",
       "      <th></th>\n",
       "      <th>P(Y=1) | X</th>\n",
       "      <th>P(Y=0) | X</th>\n",
       "    </tr>\n",
       "  </thead>\n",
       "  <tbody>\n",
       "    <tr>\n",
       "      <th>0</th>\n",
       "      <td>0.611390</td>\n",
       "      <td>0.388610</td>\n",
       "    </tr>\n",
       "    <tr>\n",
       "      <th>1</th>\n",
       "      <td>0.770408</td>\n",
       "      <td>0.229592</td>\n",
       "    </tr>\n",
       "    <tr>\n",
       "      <th>2</th>\n",
       "      <td>0.913354</td>\n",
       "      <td>0.086646</td>\n",
       "    </tr>\n",
       "    <tr>\n",
       "      <th>3</th>\n",
       "      <td>0.892928</td>\n",
       "      <td>0.107072</td>\n",
       "    </tr>\n",
       "    <tr>\n",
       "      <th>4</th>\n",
       "      <td>0.568211</td>\n",
       "      <td>0.431789</td>\n",
       "    </tr>\n",
       "  </tbody>\n",
       "</table>\n",
       "</div>"
      ],
      "text/plain": [
       "   P(Y=1) | X  P(Y=0) | X\n",
       "0    0.611390    0.388610\n",
       "1    0.770408    0.229592\n",
       "2    0.913354    0.086646\n",
       "3    0.892928    0.107072\n",
       "4    0.568211    0.431789"
      ]
     },
     "execution_count": 282,
     "metadata": {},
     "output_type": "execute_result"
    }
   ],
   "source": [
    "table.head()"
   ]
  },
  {
   "cell_type": "code",
   "execution_count": 283,
   "metadata": {},
   "outputs": [],
   "source": [
    "from sklearn.metrics import accuracy_score, jaccard_similarity_score"
   ]
  },
  {
   "cell_type": "code",
   "execution_count": 284,
   "metadata": {},
   "outputs": [],
   "source": [
    "JSS = jaccard_similarity_score(YA, YP)"
   ]
  },
  {
   "cell_type": "code",
   "execution_count": 285,
   "metadata": {},
   "outputs": [],
   "source": [
    "ACC = accuracy_score(YA, YP)"
   ]
  },
  {
   "cell_type": "code",
   "execution_count": 286,
   "metadata": {},
   "outputs": [
    {
     "data": {
      "text/plain": [
       "'Jaccard Similarity Score : 0.73000, Accuracy Score : 0.73000'"
      ]
     },
     "execution_count": 286,
     "metadata": {},
     "output_type": "execute_result"
    }
   ],
   "source": [
    "'Jaccard Similarity Score : {:.5f}, Accuracy Score : {:.5f}'.format(JSS, ACC)"
   ]
  },
  {
   "cell_type": "code",
   "execution_count": 287,
   "metadata": {},
   "outputs": [],
   "source": [
    "from sklearn.metrics import confusion_matrix, classification_report"
   ]
  },
  {
   "cell_type": "code",
   "execution_count": 288,
   "metadata": {},
   "outputs": [
    {
     "data": {
      "text/plain": [
       "array([[59,  9],\n",
       "       [18, 14]])"
      ]
     },
     "execution_count": 288,
     "metadata": {},
     "output_type": "execute_result"
    }
   ],
   "source": [
    "myCM = confusion_matrix(YA, YP)\n",
    "myCM"
   ]
  },
  {
   "cell_type": "code",
   "execution_count": 289,
   "metadata": {},
   "outputs": [
    {
     "data": {
      "text/html": [
       "<div>\n",
       "<style scoped>\n",
       "    .dataframe tbody tr th:only-of-type {\n",
       "        vertical-align: middle;\n",
       "    }\n",
       "\n",
       "    .dataframe tbody tr th {\n",
       "        vertical-align: top;\n",
       "    }\n",
       "\n",
       "    .dataframe thead th {\n",
       "        text-align: right;\n",
       "    }\n",
       "</style>\n",
       "<table border=\"1\" class=\"dataframe\">\n",
       "  <thead>\n",
       "    <tr style=\"text-align: right;\">\n",
       "      <th></th>\n",
       "      <th>YA</th>\n",
       "      <th>YP</th>\n",
       "    </tr>\n",
       "  </thead>\n",
       "  <tbody>\n",
       "    <tr>\n",
       "      <th>0</th>\n",
       "      <td>1</td>\n",
       "      <td>0</td>\n",
       "    </tr>\n",
       "    <tr>\n",
       "      <th>1</th>\n",
       "      <td>0</td>\n",
       "      <td>0</td>\n",
       "    </tr>\n",
       "    <tr>\n",
       "      <th>2</th>\n",
       "      <td>0</td>\n",
       "      <td>0</td>\n",
       "    </tr>\n",
       "    <tr>\n",
       "      <th>3</th>\n",
       "      <td>0</td>\n",
       "      <td>0</td>\n",
       "    </tr>\n",
       "    <tr>\n",
       "      <th>4</th>\n",
       "      <td>0</td>\n",
       "      <td>0</td>\n",
       "    </tr>\n",
       "  </tbody>\n",
       "</table>\n",
       "</div>"
      ],
      "text/plain": [
       "   YA  YP\n",
       "0   1   0\n",
       "1   0   0\n",
       "2   0   0\n",
       "3   0   0\n",
       "4   0   0"
      ]
     },
     "execution_count": 289,
     "metadata": {},
     "output_type": "execute_result"
    }
   ],
   "source": [
    "table = pd.DataFrame({'YA': YA, 'YP':YP})\n",
    "table.head()"
   ]
  },
  {
   "cell_type": "code",
   "execution_count": 290,
   "metadata": {},
   "outputs": [
    {
     "data": {
      "text/html": [
       "<div>\n",
       "<style scoped>\n",
       "    .dataframe tbody tr th:only-of-type {\n",
       "        vertical-align: middle;\n",
       "    }\n",
       "\n",
       "    .dataframe tbody tr th {\n",
       "        vertical-align: top;\n",
       "    }\n",
       "\n",
       "    .dataframe thead th {\n",
       "        text-align: right;\n",
       "    }\n",
       "</style>\n",
       "<table border=\"1\" class=\"dataframe\">\n",
       "  <thead>\n",
       "    <tr style=\"text-align: right;\">\n",
       "      <th>Predicted</th>\n",
       "      <th>0</th>\n",
       "      <th>1</th>\n",
       "      <th>All</th>\n",
       "    </tr>\n",
       "    <tr>\n",
       "      <th>Actual</th>\n",
       "      <th></th>\n",
       "      <th></th>\n",
       "      <th></th>\n",
       "    </tr>\n",
       "  </thead>\n",
       "  <tbody>\n",
       "    <tr>\n",
       "      <th>0</th>\n",
       "      <td>59</td>\n",
       "      <td>9</td>\n",
       "      <td>68</td>\n",
       "    </tr>\n",
       "    <tr>\n",
       "      <th>1</th>\n",
       "      <td>18</td>\n",
       "      <td>14</td>\n",
       "      <td>32</td>\n",
       "    </tr>\n",
       "    <tr>\n",
       "      <th>All</th>\n",
       "      <td>77</td>\n",
       "      <td>23</td>\n",
       "      <td>100</td>\n",
       "    </tr>\n",
       "  </tbody>\n",
       "</table>\n",
       "</div>"
      ],
      "text/plain": [
       "Predicted   0   1  All\n",
       "Actual                \n",
       "0          59   9   68\n",
       "1          18  14   32\n",
       "All        77  23  100"
      ]
     },
     "execution_count": 290,
     "metadata": {},
     "output_type": "execute_result"
    }
   ],
   "source": [
    "CONMAT = pd.crosstab(table.YA, table.YP, rownames=['Actual'], colnames=['Predicted'], margins=True)\n",
    "CONMAT"
   ]
  },
  {
   "cell_type": "code",
   "execution_count": 291,
   "metadata": {},
   "outputs": [],
   "source": [
    "import seaborn as sns"
   ]
  },
  {
   "cell_type": "code",
   "execution_count": 292,
   "metadata": {},
   "outputs": [
    {
     "data": {
      "image/png": "[encoded data removed]",
      "text/plain": [
       "<Figure size 576x432 with 2 Axes>"
      ]
     },
     "metadata": {},
     "output_type": "display_data"
    }
   ],
   "source": [
    "sns.set(rc={'figure.figsize':(8, 6)})\n",
    "sns.heatmap(CONMAT, annot=True)\n",
    "plt.show()"
   ]
  },
  {
   "cell_type": "code",
   "execution_count": 293,
   "metadata": {},
   "outputs": [
    {
     "name": "stdout",
     "output_type": "stream",
     "text": [
      "              precision    recall  f1-score   support\n",
      "\n",
      "           0       0.77      0.87      0.81        68\n",
      "           1       0.61      0.44      0.51        32\n",
      "\n",
      "   micro avg       0.73      0.73      0.73       100\n",
      "   macro avg       0.69      0.65      0.66       100\n",
      "weighted avg       0.72      0.73      0.72       100\n",
      "\n"
     ]
    }
   ],
   "source": [
    "print(classification_report(YA, YP))"
   ]
  },
  {
   "cell_type": "code",
   "execution_count": 294,
   "metadata": {},
   "outputs": [],
   "source": [
    "C_CLASS = myCM[0, 0] + myCM[1,1]"
   ]
  },
  {
   "cell_type": "code",
   "execution_count": 295,
   "metadata": {},
   "outputs": [],
   "source": [
    "TS = myCM.sum()"
   ]
  },
  {
   "cell_type": "markdown",
   "metadata": {},
   "source": [
    "Accuracy"
   ]
  },
  {
   "cell_type": "code",
   "execution_count": 296,
   "metadata": {},
   "outputs": [
    {
     "data": {
      "text/plain": [
       "0.73"
      ]
     },
     "execution_count": 296,
     "metadata": {},
     "output_type": "execute_result"
    }
   ],
   "source": [
    "C_CLASS / TS"
   ]
  },
  {
   "cell_type": "code",
   "execution_count": 297,
   "metadata": {},
   "outputs": [],
   "source": [
    "import matplotlib.pyplot as plt"
   ]
  },
  {
   "cell_type": "code",
   "execution_count": 298,
   "metadata": {},
   "outputs": [
    {
     "data": {
      "text/plain": [
       "<Figure size 576x576 with 0 Axes>"
      ]
     },
     "metadata": {},
     "output_type": "display_data"
    },
    {
     "data": {
      "image/png": "[encoded data removed]",
      "text/plain": [
       "<Figure size 432x432 with 2 Axes>"
      ]
     },
     "metadata": {},
     "output_type": "display_data"
    }
   ],
   "source": [
    "plt.figure(figsize=(8, 8))\n",
    "plt.matshow(myCM)\n",
    "plt.title('Confusion Matrix')\n",
    "plt.colorbar()\n",
    "plt.xlabel('Predicted')\n",
    "plt.ylabel('Acutal')\n",
    "plt.show()"
   ]
  },
  {
   "cell_type": "code",
   "execution_count": 299,
   "metadata": {},
   "outputs": [
    {
     "name": "stdout",
     "output_type": "stream",
     "text": [
      "              precision    recall  f1-score   support\n",
      "\n",
      "           0       0.77      0.87      0.81        68\n",
      "           1       0.61      0.44      0.51        32\n",
      "\n",
      "   micro avg       0.73      0.73      0.73       100\n",
      "   macro avg       0.69      0.65      0.66       100\n",
      "weighted avg       0.72      0.73      0.72       100\n",
      "\n"
     ]
    }
   ],
   "source": [
    "MYCLASSREPORT = classification_report(YA, YP)\n",
    "print(MYCLASSREPORT)"
   ]
  },
  {
   "cell_type": "code",
   "execution_count": 300,
   "metadata": {},
   "outputs": [],
   "source": [
    "from sklearn.metrics import roc_curve, roc_auc_score"
   ]
  },
  {
   "cell_type": "code",
   "execution_count": 301,
   "metadata": {},
   "outputs": [],
   "source": [
    "YPPR0 = YPROBA[:, 1]\n",
    "YPPR1 = YPROBA[:, 0]"
   ]
  },
  {
   "cell_type": "code",
   "execution_count": 311,
   "metadata": {},
   "outputs": [
    {
     "data": {
      "text/plain": [
       "0.7325367647058824"
      ]
     },
     "execution_count": 311,
     "metadata": {},
     "output_type": "execute_result"
    }
   ],
   "source": [
    "roc_auc_score(YA, YPPR0) "
   ]
  },
  {
   "cell_type": "code",
   "execution_count": 313,
   "metadata": {},
   "outputs": [
    {
     "data": {
      "text/plain": [
       "(array([0.61139032, 0.77040798, 0.91335415, 0.89292838, 0.56821101,\n",
       "        0.51639122, 0.49844445, 0.36101026, 0.39158873, 0.27777307,\n",
       "        0.98326531, 0.88236049, 0.99017093, 0.95917593, 0.93024925,\n",
       "        0.71329179, 0.23262964, 0.93175854, 0.90177494, 0.964086  ,\n",
       "        0.31938225, 0.94686803, 0.63713954, 0.89858797, 0.55196374,\n",
       "        0.97635628, 0.98475231, 0.3044213 , 0.95080857, 0.86780222,\n",
       "        0.30073964, 0.97268124, 0.74233486, 0.93323214, 0.77844068,\n",
       "        0.60301111, 0.97797965, 0.87586164, 0.68640519, 0.48587054,\n",
       "        0.75691609, 0.68770668, 0.99657657, 0.89077295, 0.63872515,\n",
       "        0.42539139, 0.96608307, 0.59712658, 0.53169628, 0.89704223,\n",
       "        0.8823212 , 0.63681895, 0.66068408, 0.2446491 , 0.30643502,\n",
       "        0.98366127, 0.63261932, 0.6552796 , 0.58447399, 0.77330565,\n",
       "        0.83369232, 0.67506832, 0.9837067 , 0.79061746, 0.27894744,\n",
       "        0.95947345, 0.88782922, 0.54555714, 0.39601982, 0.47478672,\n",
       "        0.83616465, 0.95992231, 0.7789118 , 0.92808072, 0.22669879,\n",
       "        0.94253954, 0.91499051, 0.89111045, 0.84564424, 0.56642374,\n",
       "        0.39019979, 0.92085908, 0.98562817, 0.83541644, 0.8167521 ,\n",
       "        0.98041556, 0.91630132, 0.68315101, 0.15895354, 0.29415062,\n",
       "        0.44635125, 0.97834477, 0.99470844, 0.45642069, 0.92909054,\n",
       "        0.70255567, 0.95140223, 0.86074092, 0.09428674, 0.24513428]),\n",
       " array([0.38860968, 0.22959202, 0.08664585, 0.10707162, 0.43178899,\n",
       "        0.48360878, 0.50155555, 0.63898974, 0.60841127, 0.72222693,\n",
       "        0.01673469, 0.11763951, 0.00982907, 0.04082407, 0.06975075,\n",
       "        0.28670821, 0.76737036, 0.06824146, 0.09822506, 0.035914  ,\n",
       "        0.68061775, 0.05313197, 0.36286046, 0.10141203, 0.44803626,\n",
       "        0.02364372, 0.01524769, 0.6955787 , 0.04919143, 0.13219778,\n",
       "        0.69926036, 0.02731876, 0.25766514, 0.06676786, 0.22155932,\n",
       "        0.39698889, 0.02202035, 0.12413836, 0.31359481, 0.51412946,\n",
       "        0.24308391, 0.31229332, 0.00342343, 0.10922705, 0.36127485,\n",
       "        0.57460861, 0.03391693, 0.40287342, 0.46830372, 0.10295777,\n",
       "        0.1176788 , 0.36318105, 0.33931592, 0.7553509 , 0.69356498,\n",
       "        0.01633873, 0.36738068, 0.3447204 , 0.41552601, 0.22669435,\n",
       "        0.16630768, 0.32493168, 0.0162933 , 0.20938254, 0.72105256,\n",
       "        0.04052655, 0.11217078, 0.45444286, 0.60398018, 0.52521328,\n",
       "        0.16383535, 0.04007769, 0.2210882 , 0.07191928, 0.77330121,\n",
       "        0.05746046, 0.08500949, 0.10888955, 0.15435576, 0.43357626,\n",
       "        0.60980021, 0.07914092, 0.01437183, 0.16458356, 0.1832479 ,\n",
       "        0.01958444, 0.08369868, 0.31684899, 0.84104646, 0.70584938,\n",
       "        0.55364875, 0.02165523, 0.00529156, 0.54357931, 0.07090946,\n",
       "        0.29744433, 0.04859777, 0.13925908, 0.90571326, 0.75486572]))"
      ]
     },
     "execution_count": 313,
     "metadata": {},
     "output_type": "execute_result"
    }
   ],
   "source": [
    "YPPR1, YPPR0"
   ]
  },
  {
   "cell_type": "code",
   "execution_count": 310,
   "metadata": {},
   "outputs": [
    {
     "data": {
      "text/plain": [
       "0.5"
      ]
     },
     "execution_count": 310,
     "metadata": {},
     "output_type": "execute_result"
    }
   ],
   "source": [
    "roc_auc_score(YA, YPPR1 + YPPR0)"
   ]
  },
  {
   "cell_type": "code",
   "execution_count": 302,
   "metadata": {},
   "outputs": [],
   "source": [
    "FPR0, TPR0, TH0 = roc_curve(YA, YPPR0)\n",
    "FPR1, TPR1, TH1 = roc_curve(YA, YPPR1)"
   ]
  },
  {
   "cell_type": "code",
   "execution_count": 303,
   "metadata": {},
   "outputs": [
    {
     "data": {
      "image/png": "[encoded data removed]",
      "text/plain": [
       "<Figure size 576x432 with 1 Axes>"
      ]
     },
     "metadata": {},
     "output_type": "display_data"
    }
   ],
   "source": [
    "plt.plot(FPR0, TPR0)\n",
    "plt.plot(FPR1, TPR1)\n",
    "plt.title('ROC CURVE')\n",
    "plt.xlabel('False Positive Rate')\n",
    "plt.ylabel('True Positive Rate')\n",
    "plt.show()"
   ]
  },
  {
   "cell_type": "code",
   "execution_count": 304,
   "metadata": {},
   "outputs": [
    {
     "data": {
      "text/plain": [
       "16.492417279411764"
      ]
     },
     "execution_count": 304,
     "metadata": {},
     "output_type": "execute_result"
    }
   ],
   "source": [
    "(2 * (TPR0.sum() * TPR1.sum()) )/(TPR0.sum()  + TPR1.sum())"
   ]
  },
  {
   "cell_type": "markdown",
   "metadata": {},
   "source": [
    "AM >= GM"
   ]
  }
 ],
 "metadata": {
  "kernelspec": {
   "display_name": "Python 3",
   "language": "python",
   "name": "python3"
  },
  "language_info": {
   "codemirror_mode": {
    "name": "ipython",
    "version": 3
   },
   "file_extension": ".py",
   "mimetype": "text/x-python",
   "name": "python",
   "nbconvert_exporter": "python",
   "pygments_lexer": "ipython3",
   "version": "3.7.3"
  }
 },
 "nbformat": 4,
 "nbformat_minor": 2
}
